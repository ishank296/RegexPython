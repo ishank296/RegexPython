{
  "nbformat": 4,
  "nbformat_minor": 0,
  "metadata": {
    "colab": {
      "provenance": []
    },
    "kernelspec": {
      "name": "python3",
      "display_name": "Python 3"
    },
    "language_info": {
      "name": "python"
    }
  },
  "cells": [
    {
      "cell_type": "markdown",
      "source": [
        "### Python 3 RegEx Playbook"
      ],
      "metadata": {
        "id": "JspsHpEn3-vc"
      }
    },
    {
      "cell_type": "markdown",
      "source": [
        "## Special Characters\n",
        "\n",
        "### Wildcards\n",
        "- \\w   -  Matches alphanumeric characters and underscore\n",
        "- \\d   -  Matches any decimal digit\n",
        "- \\s   -  Any whitespace characters like space,tab,etc\n",
        "- \\b   -  word boundary\n",
        "- \\B   -  Not a workd boundary\n",
        "- \\W   -  Any non-word characters\n",
        "- \\D   -  Matches any non-decimal digit  \n",
        "- \\S   -  Matches any non-space characters\n",
        "- .    -  Any character except newline(\\n)\n",
        "- [ae] -  Character class\\set that matches \"e\" or \"a\"\n",
        "- [a-z] - Matches all small case characters from a to z\n",
        "- [a-gA-G] - Matches all characters from a to g/A to G\n",
        "- [^abc] - Matches all characters except \"a\",\"b\" or \"c\"\n",
        "- [aA]\\d - Matches either \"a\" or \"A\" followed by a digit\n",
        "- (abc) - treat \"abc\" as a single unit\n",
        "- (abc|def) - matches either strin \"abc\" or \"def\"\n",
        "\n",
        "\n",
        "### Anchors\n",
        "\n",
        "- $ - matches end of a string or end of a line (for multi-line strings)\n",
        "- ^ - matches start of a string\n",
        "- \\A - restricts the match to the start of string\n",
        "- \\Z - restricts the match to the end of string\n",
        "\n",
        "\n",
        "### Repetitions\n",
        "\n",
        "- \\+  - matching one or more times\n",
        "- \\*  - matching 0 or more times\n",
        "- ?   - matching 0 or 1 time\n",
        "- {n} - matching exactly n times\n",
        "- {m,n} - matching m to n times\n",
        "- .+\\\\.txt - matches text filenames e.g. data.txt\n",
        "- colou?r - matches \"colour\" or \"color\"\n",
        "- (ha){2,3} - matches \"haha\" or \"hahaha\"\n",
        "- ^#\\d{6}$ - matches hex color code with only digit\n",
        "\n",
        "- ^#(\\d|[a-fA-F]){6}$ - matches hex color code with data as well as characters from a/A to f/F  \n",
        "\n",
        "- ^#((\\d|[a-fA-F]){3}){1,2}$ - Hex code that matches either color code of length 6 or length 3\n",
        "\n",
        "\n",
        "### RegEx flags\n",
        "\n",
        "- Case Insetivity - re.I or re.IGNORECASE\n",
        "- Multiline - ^ and $ matches the start and end of each line instead of start and end of each line\n",
        "- Dotall Matching - re.S or re.DOTALL makes the character match any character including new lines\n",
        "\n",
        "\n",
        "\n",
        "- https://www.regular-expressions.info/tutorial.html\n",
        "- https://learnbyexample.github.io/py_regular_expressions/re-introduction.html\n"
      ],
      "metadata": {
        "id": "9yAuw7PW4dpR"
      }
    },
    {
      "cell_type": "markdown",
      "source": [
        "**Capturing Groups**"
      ],
      "metadata": {
        "id": "RyHEfuBOcJ9Y"
      }
    },
    {
      "cell_type": "code",
      "source": [
        "import re\n",
        "\n",
        "string = \"contact for john doe : 093-098-8949\"\n",
        "\n",
        "phone_full_pattern = re.compile(r\"\\d{3}-\\d{3}-\\d{4}\")\n",
        "full_match_groups=re.search(phone_full_pattern,string)\n",
        "print(\"findall output: \",re.findall(phone_full_pattern,string))\n",
        "print(\"group 0: \",full_match_groups.group(0))\n",
        "print(\"groups: \",full_match_groups.groups())\n",
        "\n",
        "phone_capture_first_3 =  re.compile(r\"\\d{3}-(\\d{3})-(\\d{4})\")\n",
        "print(\"findall output: \",re.findall(phone_capture_first_3,string))\n",
        "partial_match_groups = re.search(phone_capture_first_3,string)\n",
        "print(\"group 0: \",partial_match_groups.group(0))\n",
        "print(\"group 1: \",partial_match_groups.group(1))\n",
        "print(\"group 2: \",partial_match_groups.group(2))\n",
        "print(\"groups: \",partial_match_groups.groups())\n",
        "\n",
        "print(re.sub(phone_capture_first_3,\"XXX\",string))"
      ],
      "metadata": {
        "colab": {
          "base_uri": "https://localhost:8080/"
        },
        "id": "0gWzJX3NcN5H",
        "outputId": "a2c498bb-5571-4243-db5c-0cc5597e1e24"
      },
      "execution_count": 32,
      "outputs": [
        {
          "output_type": "stream",
          "name": "stdout",
          "text": [
            "findall output:  ['093-098-8949']\n",
            "group 0:  093-098-8949\n",
            "groups:  ()\n",
            "findall output:  [('098', '8949')]\n",
            "group 0:  093-098-8949\n",
            "group 1:  098\n",
            "group 2:  8949\n",
            "groups:  ('098', '8949')\n",
            "contact for john doe : XXX\n"
          ]
        }
      ]
    },
    {
      "cell_type": "markdown",
      "source": [
        "**Non-Capturing Groups**"
      ],
      "metadata": {
        "id": "sVV5HHcFw0zZ"
      }
    },
    {
      "cell_type": "code",
      "source": [
        "phone_full_pattern = re.compile(r\"(\\d{3}-){2}\\d{4}\")\n",
        "print(\"findall output: \",re.findall(phone_full_pattern,string))\n",
        "\n",
        "phone_full_pattern = re.compile(r\"(?:\\d{3}-){2}\\d{4}\")\n",
        "print(\"findall output: \",re.findall(phone_full_pattern,string))"
      ],
      "metadata": {
        "colab": {
          "base_uri": "https://localhost:8080/"
        },
        "id": "NXPAITkQw5dp",
        "outputId": "36f9a3e1-63cc-418b-9faf-fe8c3a8c8e92"
      },
      "execution_count": 26,
      "outputs": [
        {
          "output_type": "stream",
          "name": "stdout",
          "text": [
            "findall output:  ['098-']\n",
            "findall output:  ['093-098-8949']\n"
          ]
        }
      ]
    },
    {
      "cell_type": "markdown",
      "source": [
        "**Lookarounds**\n",
        "\n",
        "- Negative Lookaround\n",
        "  - Lookahead : (?!pat)\n",
        "  - Lookbehind : (?<!pat)\n",
        "- Positive Lookaround\n",
        "  - Lookahead : (?=pat)\n",
        "  - Lookbehind : (?<=pat)"
      ],
      "metadata": {
        "id": "AWnlU8bJxs2x"
      }
    },
    {
      "cell_type": "code",
      "source": [
        "# words containing 'b' and 'e' and 't' in any order\n",
        "import re\n",
        "words = ['sequoia', 'subtle', 'questionable', 'exhibit', 'equation']\n",
        "pattern = re.compile(r\"(?=.*e)(?=.*b).*t\")\n",
        "res = [word for word in words if re.search(pattern,word)]\n",
        "print(res)\n",
        "\n",
        "# words containing ('ab' or 'at') and 'q' but not 'n' at the end of the element\n",
        "pattern = re.compile(r\"(?<=(.ab|at))\")"
      ],
      "metadata": {
        "colab": {
          "base_uri": "https://localhost:8080/"
        },
        "id": "dFDjIOq_6hi1",
        "outputId": "965590d3-3aad-4f54-dfb6-9e73625b1c1c"
      },
      "execution_count": 5,
      "outputs": [
        {
          "output_type": "stream",
          "name": "stdout",
          "text": [
            "['subtle', 'questionable', 'exhibit']\n"
          ]
        }
      ]
    },
    {
      "cell_type": "markdown",
      "source": [
        "**Searching/Matching Patterns in Files**"
      ],
      "metadata": {
        "id": "_CAaFQxK28Gk"
      }
    },
    {
      "cell_type": "code",
      "source": [
        "string = \"\"\"\n",
        "  number 1: 343-009-6432\n",
        "  number 2: 009.765.1246\n",
        "  number 3: (455)654-8754\n",
        "\"\"\"\n",
        "\n",
        "phone_pattern = r\"\\(?\\d{3}[-.)]\\d{3}[-.]\\d{4}\"\n",
        "\n",
        "print(re.findall(phone_pattern,string,re.MULTILINE))\n"
      ],
      "metadata": {
        "colab": {
          "base_uri": "https://localhost:8080/"
        },
        "id": "z5KD8qVW5Pcy",
        "outputId": "a4be07c1-a1a3-4021-e77d-2a78934a1100"
      },
      "execution_count": 35,
      "outputs": [
        {
          "output_type": "stream",
          "name": "stdout",
          "text": [
            "['343-009-6432', '009.765.1246', '(455)654-8754']\n"
          ]
        }
      ]
    },
    {
      "cell_type": "code",
      "source": [
        "import re\n",
        "\n",
        "# search a file to find the first match\n",
        "pattern = re.compile(\"sample\")\n",
        "with open(\"./sample_data/README.md\") as f:\n",
        "  for line in f:\n",
        "    match  = re.search(pattern,line)\n",
        "    if match:\n",
        "      print(\"Found match in the line \", line)\n",
        "      break"
      ],
      "metadata": {
        "id": "zWktNUtg4EhP",
        "colab": {
          "base_uri": "https://localhost:8080/"
        },
        "outputId": "b2ad0460-5a05-4fb5-f60a-6b19b6b78da9"
      },
      "execution_count": null,
      "outputs": [
        {
          "output_type": "stream",
          "name": "stdout",
          "text": [
            "Found match in the line  This directory includes a few sample datasets to get you started.\n",
            "\n"
          ]
        }
      ]
    },
    {
      "cell_type": "markdown",
      "source": [
        "**Extract product codes from file**\n",
        "\n",
        "Product codes examples\n",
        "- RE45-TG78\n",
        "- 546-989"
      ],
      "metadata": {
        "id": "1a76U4rrQ6MU"
      }
    },
    {
      "cell_type": "code",
      "source": [
        "product_list = \"\"\"\n",
        "Product list:\n",
        "Product 1:  456-009\n",
        "Product 2:  WE44-TE33\n",
        "Product 3:  WW67-TN33\n",
        "Product 4:  544-353\n",
        "Product 5:  5456-666\n",
        "\n",
        "stored in sample.txt\n",
        "\"\"\""
      ],
      "metadata": {
        "id": "QKJtiQEA4WcG"
      },
      "execution_count": null,
      "outputs": []
    },
    {
      "cell_type": "code",
      "source": [
        "pattern = re.compile(r\"\\b(\\d{3}-\\d{3}|[A-Z]{2}[0-9]{2}-[A-Z]{2}[0-9]{2})\\b\")\n",
        "with open(\"./sample.txt\",'r') as f:\n",
        "  data = f.read()\n",
        "  products = re.findall(pattern,data)\n",
        "  print(products)\n",
        "\n",
        "# pattern_2 = r\"\\b[A-Z]{2}\\d{2}-[A-Z]{2}\\d{2}\\b|\\b\\d{3}-\\d{3}\\b\""
      ],
      "metadata": {
        "colab": {
          "base_uri": "https://localhost:8080/"
        },
        "id": "Lq8h37jnSBr9",
        "outputId": "400369c2-571a-4376-8288-f830d9923d6f"
      },
      "execution_count": null,
      "outputs": [
        {
          "output_type": "stream",
          "name": "stdout",
          "text": [
            "['456-009', 'WE44-TE33', 'WW67-TN33', '544-353']\n"
          ]
        }
      ]
    },
    {
      "cell_type": "markdown",
      "source": [
        "**Matching specific patterns e.g email, zipcode, phone,order no**"
      ],
      "metadata": {
        "id": "GZGMe2cvdpEb"
      }
    },
    {
      "cell_type": "code",
      "source": [
        "phone_pattern = r'\\d{3}-\\d{3}-\\d{4}'\n",
        "email_pattern = r'\\b[A-Za-z0-9._%+-]+@'\n",
        "zip_pattern = r''\n",
        "order_pattern = r''"
      ],
      "metadata": {
        "id": "CzwIPoZFVffL"
      },
      "execution_count": null,
      "outputs": []
    },
    {
      "cell_type": "markdown",
      "source": [
        "**Parsing Application Logs**\n",
        "- Parse log files for data types\n",
        "- Parse log files for error codes\n",
        "- Live Logging filters for errors\n",
        "- Split entries of log files i.e date,message,loglevel,ipaddresses\n"
      ],
      "metadata": {
        "id": "NJgS_9UWMriC"
      }
    },
    {
      "cell_type": "code",
      "source": [
        "import re\n",
        "\n",
        "def extract_ip_address(log_line):\n",
        "  #pattern = re.compile(r\"(\\d{1,3}\\.){3}\\d{1,3}\")\n",
        "  pattern = re.compile(r\"(?:\\d{1,3}\\.){3}\\d{1,3}\")\n",
        "  ip_addresses = re.findall(pattern,log_line)\n",
        "  for ip in  ip_addresses:\n",
        "    print(\"ip address: \",ip)\n",
        "\n",
        "\n",
        "def extract_http_code(log_line):\n",
        "  pattern = re.compile(r\"(?<=(?:HTTP/1\\.1\\W\\s))\\d+\\b\")\n",
        "  http_codes = re.findall(pattern,log_line)\n",
        "  for code in http_codes:\n",
        "    print(\"http code :\",code)\n",
        "\n",
        "def extract_log_level(log_line):\n",
        "  if log_line.strip() == '': return\n",
        "  pattern = re.compile(r\"(INFO|ERROR|DEBUG|WARNING)\")\n",
        "  log_level = re.search(pattern,log_line)\n",
        "  print(\"log level: \",log_level.group(1))"
      ],
      "metadata": {
        "id": "mly1rNkdMuyU"
      },
      "execution_count": 42,
      "outputs": []
    },
    {
      "cell_type": "code",
      "source": [
        "log_file = \"\"\"\n",
        "83.149.9.216 - - [17/May/2015:10:05:56 +0000] \"GET /favicon.ico HTTP/1.1\" 200 3638 \"-\" \"Mozilla/5.0 (Macintosh; Intel Mac OS X 10_9_1) AppleWebKit/537.36 (KHTML, like Gecko) Chrome/32.0.1700.77 Safari/537.36\"\n",
        "24.236.252.67 - - [17/May/2015:10:05:40 +0000] \"GET /favicon.ico HTTP/1.1\" 200 3638 \"-\" \"Mozilla/5.0 (X11; Ubuntu; Linux x86_64; rv:26.0) Gecko/20100101 Firefox/26.0\"\n",
        "93.114.45.13 - - [17/May/2015:10:05:14 +0000] \"GET /articles/dynamic-dns-with-dhcp/ HTTP/1.1\" 200 18848 \"http://www.google.ro/url?sa=t&rct=j&q=&esrc=s&source=web&cd=2&ved=0CCwQFjAB&url=http%3A%2F%2Fwww.semicomplete.com%2Farticles%2Fdynamic-dns-with-dhcp%2F&ei=W88AU4n9HOq60QXbv4GwBg&usg=AFQjCNEF1X4Rs52UYQyLiySTQxa97ozM4g&bvm=bv.61535280,d.d2k\" \"Mozilla/5.0 (X11; Linux x86_64; rv:25.0) Gecko/20100101 Firefox/25.0\"\n",
        "93.114.45.13 - - [17/May/2015:10:05:04 +0000] \"GET /reset.css HTTP/1.1\" 200 1015 \"http://www.semicomplete.com/articles/dynamic-dns-with-dhcp/\" \"Mozilla/5.0 (X11; Linux x86_64; rv:25.0) Gecko/20100101 Firefox/25.0\"\n",
        "93.114.45.13 - - [17/May/2015:10:05:45 +0000] \"GET /style2.css HTTP/1.1\" 200 4877 \"http://www.semicomplete.com/articles/dynamic-dns-with-dhcp/\" \"Mozilla/5.0 (X11; Linux x86_64; rv:25.0) Gecko/20100101 Firefox/25.0\"\n",
        "93.114.45.13 - - [17/May/2015:10:05:14 +0000] \"GET /favicon.ico HTTP/1.1\" 200 3638 \"-\" \"Mozilla/5.0 (X11; Linux x86_64; rv:25.0) Gecko/20100101 Firefox/25.0\"\n",
        "93.114.45.13 - - [17/May/2015:10:05:17 +0000] \"GET /images/jordan-80.png HTTP/1.1\" 200 6146 \"http://www.semicomplete.com/articles/dynamic-dns-with-dhcp/\" \"Mozilla/5.0 (X11; Linux x86_64; rv:25.0) Gecko/20100101 Firefox/25.0\"\n",
        "93.114.45.13 - - [17/May/2015:10:05:21 +0000] \"GET /images/web/2009/banner.png HTTP/1.1\" 200 52315 \"http://www.semicomplete.com/style2.css\" \"Mozilla/5.0 (X11; Linux x86_64; rv:25.0) Gecko/20100101 Firefox/25.0\"\n",
        "66.249.73.135 - - [17/May/2015:10:05:40 +0000] \"GET /blog/tags/ipv6 HTTP/1.1\" 200 12251 \"-\" \"Mozilla/5.0 (iPhone; CPU iPhone OS 6_0 like Mac OS X) AppleWebKit/536.26 (KHTML, like Gecko) Version/6.0 Mobile/10A5376e Safari/8536.25 (compatible; Googlebot/2.1; +http://www.google.com/bot.html)\"\n",
        "50.16.19.13 - - [17/May/2015:10:05:10 +0000] \"GET /blog/tags/puppet?flav=rss20 HTTP/1.1\" 200 14872 \"http://www.semicomplete.com/blog/tags/puppet?flav=rss20\" \"Tiny Tiny RSS/1.11 (http://tt-rss.org/)\"\n",
        "66.249.73.185 - - [17/May/2015:10:05:37 +0000] \"GET / HTTP/1.1\" 200 37932 \"-\" \"Mozilla/5.0 (compatible; Googlebot/2.1; +http://www.google.com/bot.html)\"\n",
        "110.136.166.128 - - [17/May/2015:10:05:35 +0000] \"GET /projects/xdotool/ HTTP/1.1\" 200 12292 \"http://www.google.com/url?sa=t&rct=j&q=&esrc=s&source=web&cd=5&cad=rja&sqi=2&ved=0CFYQFjAE&url=http%3A%2F%2Fwww.semicomplete.com%2Fprojects%2Fxdotool%2F&ei=6cwAU_bRHo6urAeI0YD4Ag&usg=AFQjCNE3V_aCf3-gfNcbS924S6jZ6FqffA&bvm=bv.61535280,d.bmk\" \"Mozilla/5.0 (Windows NT 6.2; WOW64; rv:28.0) Gecko/20100101 Firefox/28.0\"\n",
        "46.105.14.53 - - [17/May/2015:10:05:03 +0000] \"GET /blog/tags/puppet?flav=rss20 HTTP/1.1\" 200 14872 \"-\" \"UniversalFeedParser/4.2-pre-314-svn +http://feedparser.org/\"\n",
        "110.136.166.128 - - [17/May/2015:10:05:06 +0000] \"GET /reset.css HTTP/1.1\" 200 1015 \"http://www.semicomplete.com/projects/xdotool/\" \"Mozilla/5.0 (Windows NT 6.2; WOW64; rv:28.0) Gecko/20100101 Firefox/28.0\"\n",
        "110.136.166.128 - - [17/May/2015:10:05:03 +0000] \"GET /style2.css HTTP/1.1\" 200 4877 \"http://www.semicomplete.com/projects/xdotool/\" \"Mozilla/5.0 (Windows NT 6.2; WOW64; rv:28.0) Gecko/20100101 Firefox/28.0\"\n",
        "110.136.166.128 - - [17/May/2015:10:05:41 +0000] \"GET /favicon.ico HTTP/1.1\" 200 3638 \"-\" \"Mozilla/5.0 (Windows NT 6.2; WOW64; rv:28.0) Gecko/20100101 Firefox/28.0\"\n",
        "110.136.166.128 - - [17/May/2015:10:05:32 +0000] \"GET /images/jordan-80.png HTTP/1.1\" 200 6146 \"http://www.semicomplete.com/projects/xdotool/\" \"Mozilla/5.0 (Windows NT 6.2; WOW64; rv:28.0) Gecko/20100101 Firefox/28.0\"\n",
        "\"\"\"\n",
        "\n",
        "log_file_2 = \"\"\"\n",
        "2023-07-16 10:49:43.000 [INFO] [main] [com.example.myapp.MyApp] - Starting MyApp on myhost with PID 1234 (/opt/myapp/myapp.jar started by user in /opt/myapp)\n",
        "2023-07-16 10:49:43.000 [DEBUG] [main] [com.example.myapp.MyApp] - Running with Spring Boot v2.5.4, Spring v5.3.9\n",
        "2023-07-16 10:49:43.000 [INFO] [main] [com.example.myapp.MyApp] - No active profile set, falling back to default profiles: default\n",
        "2023-07-16 10:49:44.000 [INFO] [main] [com.example.myapp.MyApp] - Started MyApp in 1.234 seconds (JVM running for 1.567)\n",
        "\"\"\""
      ],
      "metadata": {
        "id": "-B25BWgr05Zp"
      },
      "execution_count": 33,
      "outputs": []
    },
    {
      "cell_type": "code",
      "source": [
        "for line in log_file.split(\"\\n\"):\n",
        "  extract_ip_address(line)\n",
        "  extract_http_code(line)\n",
        "\n",
        "for line in log_file_2.split(\"\\n\"):\n",
        "  extract_log_level(line)\n"
      ],
      "metadata": {
        "colab": {
          "base_uri": "https://localhost:8080/"
        },
        "id": "xZLd9vnk1evB",
        "outputId": "ea58a5bc-2b7a-4dc5-b36e-17c82842f768"
      },
      "execution_count": 43,
      "outputs": [
        {
          "output_type": "stream",
          "name": "stdout",
          "text": [
            "ip address:  83.149.9.216\n",
            "http code : 200\n",
            "ip address:  24.236.252.67\n",
            "http code : 200\n",
            "ip address:  93.114.45.13\n",
            "http code : 200\n",
            "ip address:  93.114.45.13\n",
            "http code : 200\n",
            "ip address:  93.114.45.13\n",
            "http code : 200\n",
            "ip address:  93.114.45.13\n",
            "http code : 200\n",
            "ip address:  93.114.45.13\n",
            "http code : 200\n",
            "ip address:  93.114.45.13\n",
            "http code : 200\n",
            "ip address:  66.249.73.135\n",
            "http code : 200\n",
            "ip address:  50.16.19.13\n",
            "http code : 200\n",
            "ip address:  66.249.73.185\n",
            "http code : 200\n",
            "ip address:  110.136.166.128\n",
            "http code : 200\n",
            "ip address:  46.105.14.53\n",
            "http code : 200\n",
            "ip address:  110.136.166.128\n",
            "http code : 200\n",
            "ip address:  110.136.166.128\n",
            "http code : 200\n",
            "ip address:  110.136.166.128\n",
            "http code : 200\n",
            "ip address:  110.136.166.128\n",
            "http code : 200\n",
            "log level:  INFO\n",
            "log level:  DEBUG\n",
            "log level:  INFO\n",
            "log level:  INFO\n"
          ]
        }
      ]
    },
    {
      "cell_type": "code",
      "source": [
        "import re\n",
        "def replace_misspellings(corrections,text):\n",
        "  for misspelled,correct in corrections.items():\n",
        "    pattern = re.compile(rf\"\\b{misspelled}\\b\",re.IGNORECASE)\n",
        "    text = pattern.sub(correct,text)\n",
        "  return text\n"
      ],
      "metadata": {
        "id": "xcqc8el51nck"
      },
      "execution_count": 3,
      "outputs": []
    },
    {
      "cell_type": "code",
      "source": [
        "corrections = {\n",
        "    'comon' : 'common',\n",
        "    'structre':'structure',\n",
        "    'basicaly':'basically'\n",
        "}\n",
        "\n",
        "text = \"\"\"\n",
        "  CTE or Comon Table Expression is way of writing sql in order to make it more\n",
        "  readable and easier to understand. It involves creating intermediate resultset\n",
        "  using with clause before writing the main query.\n",
        "  Writing complex sql queries basicaly involves breaking down the problem/ask in\n",
        " small steps and then structre the sql. This is can be achieved by either using subquery or using CTE.\n",
        "\"\"\"\n",
        "\n",
        "new_text = replace_misspellings(corrections,text)\n",
        "print(new_text)"
      ],
      "metadata": {
        "colab": {
          "base_uri": "https://localhost:8080/"
        },
        "id": "FiCXJ0gaJWbk",
        "outputId": "1628bfb0-99e1-460d-d167-38bb371df543"
      },
      "execution_count": 5,
      "outputs": [
        {
          "output_type": "stream",
          "name": "stdout",
          "text": [
            "\n",
            "  CTE or common Table Expression is way of writing sql in order to make it more \n",
            "  readable and easier to understand. It involves creating intermediate resultset \n",
            "  using with clause before writing the main query.\n",
            "  Writing complex sql queries basically involves breaking down the problem/ask in\n",
            " small steps and then structure the sql. This is can be achieved by either using subquery or using CTE.\n",
            "\n"
          ]
        }
      ]
    },
    {
      "cell_type": "code",
      "source": [],
      "metadata": {
        "id": "wK0YFtSAxpR1"
      },
      "execution_count": null,
      "outputs": []
    }
  ]
}